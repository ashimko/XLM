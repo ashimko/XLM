{
 "cells": [
  {
   "cell_type": "code",
   "execution_count": 1,
   "metadata": {},
   "outputs": [],
   "source": [
    "import os"
   ]
  },
  {
   "cell_type": "code",
   "execution_count": 2,
   "metadata": {},
   "outputs": [],
   "source": [
    "ORIG_PATH = 'original/'"
   ]
  },
  {
   "cell_type": "code",
   "execution_count": 9,
   "metadata": {},
   "outputs": [],
   "source": [
    "def make_sgm(ln, role):\n",
    "    first_row = \"\"\"<refset trglang=\"{}\" setid=\"commands_nl2bash\" srclang=\"any\">\"\"\".format(ln)\n",
    "    with open(ORIG_PATH + '{}.{}'.format(role, ln), 'r') as f:\n",
    "        orig = f.readlines()\n",
    "    sgm = [first_row]\n",
    "    for i, line in enumerate(orig):\n",
    "        doc_id = \"\"\"<doc sysid=\"ref\" docid=\"{}\" genre=\"commands_nl2bash\" origlang=\"nl\">\"\"\".format(i + 1)\n",
    "        sgm.append(doc_id)\n",
    "        sgm.append(\"\"\"<seg id=\"1\">\"\"\" + line.rstrip(os.linesep) + \"\"\"</seg>\"\"\")\n",
    "    with open('{}.{}.sgm'.format(role, ln), 'w') as f:\n",
    "        f.write(os.linesep.join(sgm))"
   ]
  },
  {
   "cell_type": "code",
   "execution_count": 10,
   "metadata": {},
   "outputs": [],
   "source": [
    "make_sgm(ln='nl', role='test')\n",
    "make_sgm(ln='nl', role='valid')\n",
    "make_sgm(ln='ul', role='test')\n",
    "make_sgm(ln='ul', role='valid')"
   ]
  }
 ],
 "metadata": {
  "kernelspec": {
   "display_name": "Python 3",
   "language": "python",
   "name": "python3"
  },
  "language_info": {
   "codemirror_mode": {
    "name": "ipython",
    "version": 3
   },
   "file_extension": ".py",
   "mimetype": "text/x-python",
   "name": "python",
   "nbconvert_exporter": "python",
   "pygments_lexer": "ipython3",
   "version": "3.7.1"
  }
 },
 "nbformat": 4,
 "nbformat_minor": 2
}
